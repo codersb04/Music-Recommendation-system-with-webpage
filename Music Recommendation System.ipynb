{
 "cells": [
  {
   "cell_type": "markdown",
   "id": "aee4b555",
   "metadata": {},
   "source": [
    "### Types of Recomendation system\n",
    "\n",
    "1. Popularity(Formula Based)\n",
    "2. Content Based (Tags like comedy , thriller, love, etc,.)\n",
    "3. Collaborative filtering (Based on users similarity)\n",
    "4. Hybrid (Collection of all the above 3)\n",
    "\n",
    "We are going to develop using Content Based"
   ]
  },
  {
   "cell_type": "code",
   "execution_count": 35,
   "id": "40c1cb4e",
   "metadata": {},
   "outputs": [],
   "source": [
    "import pandas as pd"
   ]
  },
  {
   "cell_type": "code",
   "execution_count": 36,
   "id": "4d77f340",
   "metadata": {},
   "outputs": [],
   "source": [
    "music_df = pd.read_csv(\"spotify_millsongdata.csv\")"
   ]
  },
  {
   "cell_type": "code",
   "execution_count": 37,
   "id": "fe0036f3",
   "metadata": {},
   "outputs": [
    {
     "data": {
      "text/html": [
       "<div>\n",
       "<style scoped>\n",
       "    .dataframe tbody tr th:only-of-type {\n",
       "        vertical-align: middle;\n",
       "    }\n",
       "\n",
       "    .dataframe tbody tr th {\n",
       "        vertical-align: top;\n",
       "    }\n",
       "\n",
       "    .dataframe thead th {\n",
       "        text-align: right;\n",
       "    }\n",
       "</style>\n",
       "<table border=\"1\" class=\"dataframe\">\n",
       "  <thead>\n",
       "    <tr style=\"text-align: right;\">\n",
       "      <th></th>\n",
       "      <th>artist</th>\n",
       "      <th>song</th>\n",
       "      <th>link</th>\n",
       "      <th>text</th>\n",
       "    </tr>\n",
       "  </thead>\n",
       "  <tbody>\n",
       "    <tr>\n",
       "      <th>0</th>\n",
       "      <td>ABBA</td>\n",
       "      <td>Ahe's My Kind Of Girl</td>\n",
       "      <td>/a/abba/ahes+my+kind+of+girl_20598417.html</td>\n",
       "      <td>Look at her face, it's a wonderful face  \\r\\nA...</td>\n",
       "    </tr>\n",
       "    <tr>\n",
       "      <th>1</th>\n",
       "      <td>ABBA</td>\n",
       "      <td>Andante, Andante</td>\n",
       "      <td>/a/abba/andante+andante_20002708.html</td>\n",
       "      <td>Take it easy with me, please  \\r\\nTouch me gen...</td>\n",
       "    </tr>\n",
       "    <tr>\n",
       "      <th>2</th>\n",
       "      <td>ABBA</td>\n",
       "      <td>As Good As New</td>\n",
       "      <td>/a/abba/as+good+as+new_20003033.html</td>\n",
       "      <td>I'll never know why I had to go  \\r\\nWhy I had...</td>\n",
       "    </tr>\n",
       "    <tr>\n",
       "      <th>3</th>\n",
       "      <td>ABBA</td>\n",
       "      <td>Bang</td>\n",
       "      <td>/a/abba/bang_20598415.html</td>\n",
       "      <td>Making somebody happy is a question of give an...</td>\n",
       "    </tr>\n",
       "    <tr>\n",
       "      <th>4</th>\n",
       "      <td>ABBA</td>\n",
       "      <td>Bang-A-Boomerang</td>\n",
       "      <td>/a/abba/bang+a+boomerang_20002668.html</td>\n",
       "      <td>Making somebody happy is a question of give an...</td>\n",
       "    </tr>\n",
       "  </tbody>\n",
       "</table>\n",
       "</div>"
      ],
      "text/plain": [
       "  artist                   song                                        link  \\\n",
       "0   ABBA  Ahe's My Kind Of Girl  /a/abba/ahes+my+kind+of+girl_20598417.html   \n",
       "1   ABBA       Andante, Andante       /a/abba/andante+andante_20002708.html   \n",
       "2   ABBA         As Good As New        /a/abba/as+good+as+new_20003033.html   \n",
       "3   ABBA                   Bang                  /a/abba/bang_20598415.html   \n",
       "4   ABBA       Bang-A-Boomerang      /a/abba/bang+a+boomerang_20002668.html   \n",
       "\n",
       "                                                text  \n",
       "0  Look at her face, it's a wonderful face  \\r\\nA...  \n",
       "1  Take it easy with me, please  \\r\\nTouch me gen...  \n",
       "2  I'll never know why I had to go  \\r\\nWhy I had...  \n",
       "3  Making somebody happy is a question of give an...  \n",
       "4  Making somebody happy is a question of give an...  "
      ]
     },
     "execution_count": 37,
     "metadata": {},
     "output_type": "execute_result"
    }
   ],
   "source": [
    "music_df.head()"
   ]
  },
  {
   "cell_type": "code",
   "execution_count": 38,
   "id": "7245d5a4",
   "metadata": {},
   "outputs": [
    {
     "data": {
      "text/plain": [
       "(57650, 4)"
      ]
     },
     "execution_count": 38,
     "metadata": {},
     "output_type": "execute_result"
    }
   ],
   "source": [
    "music_df.shape"
   ]
  },
  {
   "cell_type": "code",
   "execution_count": 39,
   "id": "d2b14785",
   "metadata": {},
   "outputs": [
    {
     "data": {
      "text/plain": [
       "Index(['artist', 'song', 'link', 'text'], dtype='object')"
      ]
     },
     "execution_count": 39,
     "metadata": {},
     "output_type": "execute_result"
    }
   ],
   "source": [
    "music_df.columns"
   ]
  },
  {
   "cell_type": "code",
   "execution_count": 40,
   "id": "156e05f4",
   "metadata": {},
   "outputs": [
    {
     "data": {
      "text/html": [
       "<div>\n",
       "<style scoped>\n",
       "    .dataframe tbody tr th:only-of-type {\n",
       "        vertical-align: middle;\n",
       "    }\n",
       "\n",
       "    .dataframe tbody tr th {\n",
       "        vertical-align: top;\n",
       "    }\n",
       "\n",
       "    .dataframe thead th {\n",
       "        text-align: right;\n",
       "    }\n",
       "</style>\n",
       "<table border=\"1\" class=\"dataframe\">\n",
       "  <thead>\n",
       "    <tr style=\"text-align: right;\">\n",
       "      <th></th>\n",
       "      <th>artist</th>\n",
       "      <th>song</th>\n",
       "      <th>link</th>\n",
       "      <th>text</th>\n",
       "    </tr>\n",
       "  </thead>\n",
       "  <tbody>\n",
       "    <tr>\n",
       "      <th>count</th>\n",
       "      <td>57650</td>\n",
       "      <td>57650</td>\n",
       "      <td>57650</td>\n",
       "      <td>57650</td>\n",
       "    </tr>\n",
       "    <tr>\n",
       "      <th>unique</th>\n",
       "      <td>643</td>\n",
       "      <td>44824</td>\n",
       "      <td>57650</td>\n",
       "      <td>57494</td>\n",
       "    </tr>\n",
       "    <tr>\n",
       "      <th>top</th>\n",
       "      <td>Donna Summer</td>\n",
       "      <td>Have Yourself A Merry Little Christmas</td>\n",
       "      <td>/a/abba/ahes+my+kind+of+girl_20598417.html</td>\n",
       "      <td>I just came back from a lovely trip along the ...</td>\n",
       "    </tr>\n",
       "    <tr>\n",
       "      <th>freq</th>\n",
       "      <td>191</td>\n",
       "      <td>35</td>\n",
       "      <td>1</td>\n",
       "      <td>6</td>\n",
       "    </tr>\n",
       "  </tbody>\n",
       "</table>\n",
       "</div>"
      ],
      "text/plain": [
       "              artist                                    song  \\\n",
       "count          57650                                   57650   \n",
       "unique           643                                   44824   \n",
       "top     Donna Summer  Have Yourself A Merry Little Christmas   \n",
       "freq             191                                      35   \n",
       "\n",
       "                                              link  \\\n",
       "count                                        57650   \n",
       "unique                                       57650   \n",
       "top     /a/abba/ahes+my+kind+of+girl_20598417.html   \n",
       "freq                                             1   \n",
       "\n",
       "                                                     text  \n",
       "count                                               57650  \n",
       "unique                                              57494  \n",
       "top     I just came back from a lovely trip along the ...  \n",
       "freq                                                    6  "
      ]
     },
     "execution_count": 40,
     "metadata": {},
     "output_type": "execute_result"
    }
   ],
   "source": [
    "music_df.describe()"
   ]
  },
  {
   "cell_type": "code",
   "execution_count": 41,
   "id": "01332069",
   "metadata": {},
   "outputs": [
    {
     "data": {
      "text/plain": [
       "artist    0\n",
       "song      0\n",
       "link      0\n",
       "text      0\n",
       "dtype: int64"
      ]
     },
     "execution_count": 41,
     "metadata": {},
     "output_type": "execute_result"
    }
   ],
   "source": [
    "music_df.isnull().sum()"
   ]
  },
  {
   "cell_type": "code",
   "execution_count": 42,
   "id": "2c122b36",
   "metadata": {},
   "outputs": [],
   "source": [
    "# Drop the link column and take a small sample 5000 from the big dataset and reset the index\n",
    "df = music_df.sample(5000).drop('link',axis =1).reset_index(drop=True)"
   ]
  },
  {
   "cell_type": "code",
   "execution_count": 43,
   "id": "ca3ef820",
   "metadata": {},
   "outputs": [
    {
     "data": {
      "text/plain": [
       "(5000, 3)"
      ]
     },
     "execution_count": 43,
     "metadata": {},
     "output_type": "execute_result"
    }
   ],
   "source": [
    "df.shape"
   ]
  },
  {
   "cell_type": "code",
   "execution_count": 44,
   "id": "89935093",
   "metadata": {},
   "outputs": [
    {
     "data": {
      "text/plain": [
       "\"I was a young man when I died  \\r\\nI was a flash, I was full of pride  \\r\\nI gave it all, I gave my soul, I was so strong  \\r\\nI felt the truth, I felt the pain in every song  \\r\\n  \\r\\nHow well you know me  \\r\\nYou've seen me cry  \\r\\nI'm just a shadow  \\r\\nIn a rock and roll sky  \\r\\n  \\r\\nI was living in a rock and roll sky  \\r\\nI was a king, heavy on the style  \\r\\nSuper trouper, yes I know you well, making me shine  \\r\\nI couldn't see what you did to me.  \\r\\nI was so blind  \\r\\n  \\r\\nHow well you know me  \\r\\nYou've seen me cry  \\r\\nI'm just a shadow  \\r\\nIn a rock and roll sky  \\r\\n  \\r\\nI wanna be like I was before  \\r\\nBut this time I'm gonna know the score  \\r\\nI need a home I can leave behind knowing you're there  \\r\\nSuper trouper, I can see you now, return your stare  \\r\\n  \\r\\nHow well you know me  \\r\\nYou've seen me cry  \\r\\nI'm just a shadow  \\r\\nIn a rock and roll sky\\r\\n\\r\\n\""
      ]
     },
     "execution_count": 44,
     "metadata": {},
     "output_type": "execute_result"
    }
   ],
   "source": [
    "df['text'][1]"
   ]
  },
  {
   "cell_type": "code",
   "execution_count": 45,
   "id": "4bba3a86",
   "metadata": {},
   "outputs": [
    {
     "data": {
      "text/plain": [
       "Index(['artist', 'song', 'text'], dtype='object')"
      ]
     },
     "execution_count": 45,
     "metadata": {},
     "output_type": "execute_result"
    }
   ],
   "source": [
    "df.columns"
   ]
  },
  {
   "cell_type": "markdown",
   "id": "171291a3",
   "metadata": {},
   "source": [
    "### Text Preprocessing"
   ]
  },
  {
   "cell_type": "code",
   "execution_count": 46,
   "id": "c6dfd3d1",
   "metadata": {},
   "outputs": [],
   "source": [
    "# COnvert the text into lower case, replace all the characters except alphabet-digits[\\w] and white space[\\s] to empty string\n",
    "# COnvert \\n with ' '\n",
    "df['text'] = df['text'].str.lower().replace(r'^\\w\\s', ' ').replace(r'\\n', ' ', regex = True)"
   ]
  },
  {
   "cell_type": "code",
   "execution_count": 47,
   "id": "8257af54",
   "metadata": {},
   "outputs": [
    {
     "data": {
      "text/plain": [
       "0       dancin' in the dark 'til the tune ends  \\r we'...\n",
       "1       i was a young man when i died  \\r i was a flas...\n",
       "2       time, is going by, so much faster than i,  \\r ...\n",
       "3       bad times, something's wrong  \\r money's gone,...\n",
       "4       i saw an open door and i looked inside it  \\r ...\n",
       "                              ...                        \n",
       "4995    chorus:  \\r i know who i am  \\r i know who i a...\n",
       "4996    domo arigato misuta robotto  \\r mata au hi mad...\n",
       "4997    saw you layin' under my car, but you took it t...\n",
       "4998    oh since my baby left me i've found new place ...\n",
       "4999    it was a hundred and seven  \\r we were heading...\n",
       "Name: text, Length: 5000, dtype: object"
      ]
     },
     "execution_count": 47,
     "metadata": {},
     "output_type": "execute_result"
    }
   ],
   "source": [
    "df['text']"
   ]
  },
  {
   "cell_type": "code",
   "execution_count": 48,
   "id": "777e9e66",
   "metadata": {},
   "outputs": [
    {
     "data": {
      "text/html": [
       "<div>\n",
       "<style scoped>\n",
       "    .dataframe tbody tr th:only-of-type {\n",
       "        vertical-align: middle;\n",
       "    }\n",
       "\n",
       "    .dataframe tbody tr th {\n",
       "        vertical-align: top;\n",
       "    }\n",
       "\n",
       "    .dataframe thead th {\n",
       "        text-align: right;\n",
       "    }\n",
       "</style>\n",
       "<table border=\"1\" class=\"dataframe\">\n",
       "  <thead>\n",
       "    <tr style=\"text-align: right;\">\n",
       "      <th></th>\n",
       "      <th>artist</th>\n",
       "      <th>song</th>\n",
       "      <th>text</th>\n",
       "    </tr>\n",
       "  </thead>\n",
       "  <tbody>\n",
       "    <tr>\n",
       "      <th>4995</th>\n",
       "      <td>Israel</td>\n",
       "      <td>I Know Who I Am</td>\n",
       "      <td>chorus:  \\r i know who i am  \\r i know who i a...</td>\n",
       "    </tr>\n",
       "    <tr>\n",
       "      <th>4996</th>\n",
       "      <td>Styx</td>\n",
       "      <td>Mr. Roboto</td>\n",
       "      <td>domo arigato misuta robotto  \\r mata au hi mad...</td>\n",
       "    </tr>\n",
       "    <tr>\n",
       "      <th>4997</th>\n",
       "      <td>Mazzy Star</td>\n",
       "      <td>Under My Car</td>\n",
       "      <td>saw you layin' under my car, but you took it t...</td>\n",
       "    </tr>\n",
       "    <tr>\n",
       "      <th>4998</th>\n",
       "      <td>Willie Nelson</td>\n",
       "      <td>Heartbreak Hotel</td>\n",
       "      <td>oh since my baby left me i've found new place ...</td>\n",
       "    </tr>\n",
       "    <tr>\n",
       "      <th>4999</th>\n",
       "      <td>Garth Brooks</td>\n",
       "      <td>That Girl Is A Cowboy</td>\n",
       "      <td>it was a hundred and seven  \\r we were heading...</td>\n",
       "    </tr>\n",
       "  </tbody>\n",
       "</table>\n",
       "</div>"
      ],
      "text/plain": [
       "             artist                   song  \\\n",
       "4995         Israel        I Know Who I Am   \n",
       "4996           Styx             Mr. Roboto   \n",
       "4997     Mazzy Star           Under My Car   \n",
       "4998  Willie Nelson       Heartbreak Hotel   \n",
       "4999   Garth Brooks  That Girl Is A Cowboy   \n",
       "\n",
       "                                                   text  \n",
       "4995  chorus:  \\r i know who i am  \\r i know who i a...  \n",
       "4996  domo arigato misuta robotto  \\r mata au hi mad...  \n",
       "4997  saw you layin' under my car, but you took it t...  \n",
       "4998  oh since my baby left me i've found new place ...  \n",
       "4999  it was a hundred and seven  \\r we were heading...  "
      ]
     },
     "execution_count": 48,
     "metadata": {},
     "output_type": "execute_result"
    }
   ],
   "source": [
    "df.tail()"
   ]
  },
  {
   "cell_type": "markdown",
   "id": "e71f9505",
   "metadata": {},
   "source": [
    "## Tokenization"
   ]
  },
  {
   "cell_type": "code",
   "execution_count": 49,
   "id": "a7bf1ef9",
   "metadata": {},
   "outputs": [],
   "source": [
    "import nltk\n",
    "from nltk.stem.porter import PorterStemmer"
   ]
  },
  {
   "cell_type": "code",
   "execution_count": 50,
   "id": "f89930b9",
   "metadata": {},
   "outputs": [],
   "source": [
    "stemmer = PorterStemmer()"
   ]
  },
  {
   "cell_type": "code",
   "execution_count": 54,
   "id": "1790f8bf",
   "metadata": {},
   "outputs": [],
   "source": [
    "# Function to convert all text to token with stem function and converting to each word to it's root word\n",
    "def token(txt):\n",
    "    token = nltk.word_tokenize(txt)\n",
    "    base_word = [stemmer.stem(word) for word in token]\n",
    "    return ' '.join(base_word)"
   ]
  },
  {
   "cell_type": "code",
   "execution_count": 55,
   "id": "9b5ca7d0",
   "metadata": {},
   "outputs": [
    {
     "data": {
      "text/plain": [
       "'recomend , recommend , recomend'"
      ]
     },
     "execution_count": 55,
     "metadata": {},
     "output_type": "execute_result"
    }
   ],
   "source": [
    "# Test for function with example\n",
    "token(\"Recomend, Recommendation, Recomending\")"
   ]
  },
  {
   "cell_type": "code",
   "execution_count": 56,
   "id": "ca5c076b",
   "metadata": {},
   "outputs": [
    {
     "data": {
      "text/plain": [
       "0       dancin ' in the dark 'til the tune end we 're ...\n",
       "1       i wa a young man when i die i wa a flash , i w...\n",
       "2       time , is go by , so much faster than i , and ...\n",
       "3       bad time , someth 's wrong money 's gone , i '...\n",
       "4       i saw an open door and i look insid it but i '...\n",
       "                              ...                        \n",
       "4995    choru : i know who i am i know who i am i know...\n",
       "4996    domo arigato misuta robotto mata au hi made do...\n",
       "4997    saw you layin ' under my car , but you took it...\n",
       "4998    oh sinc my babi left me i 've found new place ...\n",
       "4999    it wa a hundr and seven we were head to town s...\n",
       "Name: text, Length: 5000, dtype: object"
      ]
     },
     "execution_count": 56,
     "metadata": {},
     "output_type": "execute_result"
    }
   ],
   "source": [
    "# Apply the token function to dataset 'text' column\n",
    "df['text'].apply(lambda x: token(x))"
   ]
  },
  {
   "cell_type": "markdown",
   "id": "1a54ce85",
   "metadata": {},
   "source": [
    "### Vectorization"
   ]
  },
  {
   "cell_type": "code",
   "execution_count": 20,
   "id": "0ac36912",
   "metadata": {},
   "outputs": [],
   "source": [
    "from sklearn.feature_extraction.text import TfidfVectorizer\n",
    "from sklearn.metrics.pairwise import cosine_similarity"
   ]
  },
  {
   "cell_type": "code",
   "execution_count": 57,
   "id": "e1bc6607",
   "metadata": {},
   "outputs": [],
   "source": [
    "# tf: term frequency = word count in the document/ total words in sentence \n",
    "# idf: Inverse Document frequency =  Total document/ Word count in doucumnet\n",
    "# tfidf = Tf* Idf\n",
    "tfidV = TfidfVectorizer(analyzer='word', stop_words='english')"
   ]
  },
  {
   "cell_type": "code",
   "execution_count": 58,
   "id": "e4c88564",
   "metadata": {},
   "outputs": [],
   "source": [
    "vector = tfidV.fit_transform(df['text'])"
   ]
  },
  {
   "cell_type": "code",
   "execution_count": 59,
   "id": "a4022f0b",
   "metadata": {},
   "outputs": [],
   "source": [
    "# Apply the cosine similarity\n",
    "# COnsine similarity get the Angle between the two vetors\n",
    "similar = cosine_similarity(vector)"
   ]
  },
  {
   "cell_type": "code",
   "execution_count": 60,
   "id": "8417272a",
   "metadata": {},
   "outputs": [
    {
     "data": {
      "text/plain": [
       "(5000, 5000)"
      ]
     },
     "execution_count": 60,
     "metadata": {},
     "output_type": "execute_result"
    }
   ],
   "source": [
    "similar.shape"
   ]
  },
  {
   "cell_type": "code",
   "execution_count": 24,
   "id": "dac181e6",
   "metadata": {},
   "outputs": [
    {
     "data": {
      "text/plain": [
       "array([[1.        , 0.04576768, 0.06215841, ..., 0.0078641 , 0.00212612,\n",
       "        0.0627998 ],\n",
       "       [0.04576768, 1.        , 0.04470051, ..., 0.00748024, 0.        ,\n",
       "        0.07955186],\n",
       "       [0.06215841, 0.04470051, 1.        , ..., 0.00869395, 0.0185206 ,\n",
       "        0.05887047],\n",
       "       ...,\n",
       "       [0.0078641 , 0.00748024, 0.00869395, ..., 1.        , 0.        ,\n",
       "        0.05838081],\n",
       "       [0.00212612, 0.        , 0.0185206 , ..., 0.        , 1.        ,\n",
       "        0.02069967],\n",
       "       [0.0627998 , 0.07955186, 0.05887047, ..., 0.05838081, 0.02069967,\n",
       "        1.        ]])"
      ]
     },
     "execution_count": 24,
     "metadata": {},
     "output_type": "execute_result"
    }
   ],
   "source": [
    "similar"
   ]
  },
  {
   "cell_type": "markdown",
   "id": "01b7241a",
   "metadata": {},
   "source": [
    "## Recommendation System"
   ]
  },
  {
   "cell_type": "code",
   "execution_count": 62,
   "id": "1fb83a34",
   "metadata": {},
   "outputs": [
    {
     "data": {
      "text/plain": [
       "4995"
      ]
     },
     "execution_count": 62,
     "metadata": {},
     "output_type": "execute_result"
    }
   ],
   "source": [
    "df[df['song']=='I Know Who I Am'].index[0]"
   ]
  },
  {
   "cell_type": "code",
   "execution_count": 63,
   "id": "b35c469a",
   "metadata": {},
   "outputs": [
    {
     "data": {
      "text/html": [
       "<div>\n",
       "<style scoped>\n",
       "    .dataframe tbody tr th:only-of-type {\n",
       "        vertical-align: middle;\n",
       "    }\n",
       "\n",
       "    .dataframe tbody tr th {\n",
       "        vertical-align: top;\n",
       "    }\n",
       "\n",
       "    .dataframe thead th {\n",
       "        text-align: right;\n",
       "    }\n",
       "</style>\n",
       "<table border=\"1\" class=\"dataframe\">\n",
       "  <thead>\n",
       "    <tr style=\"text-align: right;\">\n",
       "      <th></th>\n",
       "      <th>artist</th>\n",
       "      <th>song</th>\n",
       "      <th>text</th>\n",
       "    </tr>\n",
       "  </thead>\n",
       "  <tbody>\n",
       "    <tr>\n",
       "      <th>4995</th>\n",
       "      <td>Israel</td>\n",
       "      <td>I Know Who I Am</td>\n",
       "      <td>chorus:  \\r i know who i am  \\r i know who i a...</td>\n",
       "    </tr>\n",
       "  </tbody>\n",
       "</table>\n",
       "</div>"
      ],
      "text/plain": [
       "      artist             song  \\\n",
       "4995  Israel  I Know Who I Am   \n",
       "\n",
       "                                                   text  \n",
       "4995  chorus:  \\r i know who i am  \\r i know who i a...  "
      ]
     },
     "execution_count": 63,
     "metadata": {},
     "output_type": "execute_result"
    }
   ],
   "source": [
    "df[df['song']=='I Know Who I Am']"
   ]
  },
  {
   "cell_type": "code",
   "execution_count": 30,
   "id": "f75029de",
   "metadata": {},
   "outputs": [],
   "source": [
    "# recommender function\n",
    "\n",
    "def recommender(song_name):\n",
    "    idx = df[df['song']==song_name].index[0]\n",
    "    \n",
    "    # Get the whole row of similar matrix corresponse to the index and Sort it in reverse order based on vector value\n",
    "    # Also get the index value using enumerate function\n",
    "    vector_idx = sorted(list(enumerate(similar[idx])), reverse = True, key = lambda x:x[1])\n",
    "    songs = []\n",
    "    \n",
    "    # Make use of Index value to get the song names of top 10 songs, 0th index is sikped as that is the song itself\n",
    "    for s_id in vector_idx[1:11]:\n",
    "        songs.append(df.iloc[s_id[0]].song)\n",
    "    return songs"
   ]
  },
  {
   "cell_type": "code",
   "execution_count": 65,
   "id": "ed02f69a",
   "metadata": {},
   "outputs": [
    {
     "data": {
      "text/plain": [
       "['Be Still',\n",
       " 'You Belong With Me',\n",
       " 'Just Like Them',\n",
       " 'Everything Has Changed',\n",
       " 'You Belong To Me',\n",
       " 'The Song Is Alive',\n",
       " 'My Soul Is Complete',\n",
       " 'Belong To The World',\n",
       " 'Back To What You Know',\n",
       " 'Everything To Me']"
      ]
     },
     "execution_count": 65,
     "metadata": {},
     "output_type": "execute_result"
    }
   ],
   "source": [
    "# Function test\n",
    "recommender(\"I Know Who I Am\")"
   ]
  },
  {
   "cell_type": "markdown",
   "id": "d7d8c280",
   "metadata": {},
   "source": [
    "## Store the model created"
   ]
  },
  {
   "cell_type": "code",
   "execution_count": 66,
   "id": "cdd4936b",
   "metadata": {},
   "outputs": [],
   "source": [
    "import pickle"
   ]
  },
  {
   "cell_type": "code",
   "execution_count": 67,
   "id": "f2fdce0d",
   "metadata": {},
   "outputs": [],
   "source": [
    "# dump the model in a file with write mode\n",
    "pickle.dump(similar,open(\"recommendation.pkl\",\"wb\"))"
   ]
  },
  {
   "cell_type": "code",
   "execution_count": 68,
   "id": "58ac188b",
   "metadata": {},
   "outputs": [],
   "source": [
    "# dump the dataset in the file\n",
    "pickle.dump(df,open(\"recommendation_df.pkl\",\"wb\"))"
   ]
  },
  {
   "cell_type": "code",
   "execution_count": null,
   "id": "cc59c723",
   "metadata": {},
   "outputs": [],
   "source": []
  }
 ],
 "metadata": {
  "kernelspec": {
   "display_name": "Python 3 (ipykernel)",
   "language": "python",
   "name": "python3"
  },
  "language_info": {
   "codemirror_mode": {
    "name": "ipython",
    "version": 3
   },
   "file_extension": ".py",
   "mimetype": "text/x-python",
   "name": "python",
   "nbconvert_exporter": "python",
   "pygments_lexer": "ipython3",
   "version": "3.11.5"
  }
 },
 "nbformat": 4,
 "nbformat_minor": 5
}
